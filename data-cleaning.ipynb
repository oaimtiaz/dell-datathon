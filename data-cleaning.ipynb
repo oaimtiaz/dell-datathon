{
 "cells": [
  {
   "cell_type": "code",
   "execution_count": 1,
   "metadata": {},
   "outputs": [],
   "source": [
    "import pandas as pd\n",
    "import numpy as np\n",
    "import time\n",
    "import matplotlib.pyplot as plt\n",
    "from datetime import datetime, timedelta\n"
   ]
  },
  {
   "cell_type": "code",
   "execution_count": 50,
   "metadata": {},
   "outputs": [],
   "source": [
    "all_data = pd.read_csv(\"all-data.csv\")"
   ]
  },
  {
   "cell_type": "code",
   "execution_count": 4,
   "metadata": {},
   "outputs": [],
   "source": [
    "target_columns = [\"support-quarantine\", \"wearing-masks\", \"avoiding-crowds\"]"
   ]
  },
  {
   "cell_type": "code",
   "execution_count": 4,
   "metadata": {},
   "outputs": [],
   "source": [
    "\n",
    "def fill_vals(target_column):\n",
    "    X = []\n",
    "    y = []\n",
    "    series = all_data[target_column]\n",
    "    for i in range(len(series)):\n",
    "        if not np.isnan(series[i]):\n",
    "            X.append(i)\n",
    "            y.append(series[i])\n",
    "    return (np.asarray(X), np.asarray(y))"
   ]
  },
  {
   "cell_type": "code",
   "execution_count": 13,
   "metadata": {},
   "outputs": [
    {
     "name": "stderr",
     "output_type": "stream",
     "text": [
      "<ipython-input-13-4ac6605a5492>:4: SettingWithCopyWarning: \n",
      "A value is trying to be set on a copy of a slice from a DataFrame\n",
      "\n",
      "See the caveats in the documentation: https://pandas.pydata.org/pandas-docs/stable/user_guide/indexing.html#returning-a-view-versus-a-copy\n",
      "  all_data[target_column][i] = np.interp(i, X, y)\n"
     ]
    }
   ],
   "source": [
    "\"\"\"for target_column in target_columns:\n",
    "    X, y = fill_vals(target_column)\n",
    "    for i in range(len(all_data)):\n",
    "        all_data[target_column][i] = np.interp(i, X, y)\"\"\""
   ]
  },
  {
   "cell_type": "code",
   "execution_count": 35,
   "metadata": {},
   "outputs": [],
   "source": [
    "to_fix = [\"Total_Reported\", \"% of hospitalizations for covid\"] "
   ]
  },
  {
   "cell_type": "code",
   "execution_count": 47,
   "metadata": {},
   "outputs": [],
   "source": [
    "for col in all_data.columns:\n",
    "    if type(all_data[col][0]) == str:\n",
    "        if \"%\" in all_data[col][0]:\n",
    "            all_data[col] = all_data[col].astype(str).map(lambda val: float(val.strip(\"%\")) / 100)"
   ]
  },
  {
   "cell_type": "code",
   "execution_count": 48,
   "metadata": {},
   "outputs": [
    {
     "name": "stderr",
     "output_type": "stream",
     "text": [
      "<ipython-input-48-6a9cd6ada608>:4: SettingWithCopyWarning: \n",
      "A value is trying to be set on a copy of a slice from a DataFrame\n",
      "\n",
      "See the caveats in the documentation: https://pandas.pydata.org/pandas-docs/stable/user_guide/indexing.html#returning-a-view-versus-a-copy\n",
      "  all_data[col][i] = np.interp(i, X, y)\n"
     ]
    }
   ],
   "source": [
    "for col in to_fix:\n",
    "    X, y = fill_vals(col)\n",
    "    for i in range(len(all_data)):\n",
    "        all_data[col][i] = np.interp(i, X, y)"
   ]
  },
  {
   "cell_type": "code",
   "execution_count": 59,
   "metadata": {},
   "outputs": [],
   "source": [
    "all_data.to_csv(r\"all-data.csv\")"
   ]
  },
  {
   "cell_type": "code",
   "execution_count": null,
   "metadata": {},
   "outputs": [],
   "source": []
  }
 ],
 "metadata": {
  "kernelspec": {
   "display_name": "Python 3",
   "language": "python",
   "name": "python3"
  },
  "language_info": {
   "codemirror_mode": {
    "name": "ipython",
    "version": 3
   },
   "file_extension": ".py",
   "mimetype": "text/x-python",
   "name": "python",
   "nbconvert_exporter": "python",
   "pygments_lexer": "ipython3",
   "version": "3.8.3"
  }
 },
 "nbformat": 4,
 "nbformat_minor": 4
}
