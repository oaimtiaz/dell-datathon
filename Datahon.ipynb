{
 "cells": [
  {
   "cell_type": "code",
   "execution_count": 89,
   "metadata": {},
   "outputs": [],
   "source": [
    "import numpy as np\n",
    "import pandas as pd\n",
    "import matplotlib.pyplot as plt\n",
    "import time\n",
    "from datetime import datetime"
   ]
  },
  {
   "cell_type": "code",
   "execution_count": 18,
   "metadata": {},
   "outputs": [],
   "source": [
    "# source Texas DSHS\n",
    "new_cases_travis = pd.read_csv(r\"Texas_County_Cases_per_Day_data.csv\")"
   ]
  },
  {
   "cell_type": "code",
   "execution_count": 19,
   "metadata": {},
   "outputs": [
    {
     "data": {
      "text/html": [
       "<div>\n",
       "<style scoped>\n",
       "    .dataframe tbody tr th:only-of-type {\n",
       "        vertical-align: middle;\n",
       "    }\n",
       "\n",
       "    .dataframe tbody tr th {\n",
       "        vertical-align: top;\n",
       "    }\n",
       "\n",
       "    .dataframe thead th {\n",
       "        text-align: right;\n",
       "    }\n",
       "</style>\n",
       "<table border=\"1\" class=\"dataframe\">\n",
       "  <thead>\n",
       "    <tr style=\"text-align: right;\">\n",
       "      <th></th>\n",
       "      <th>Date</th>\n",
       "      <th>New Cases</th>\n",
       "    </tr>\n",
       "  </thead>\n",
       "  <tbody>\n",
       "    <tr>\n",
       "      <th>0</th>\n",
       "      <td>10/16/20</td>\n",
       "      <td>5682.0</td>\n",
       "    </tr>\n",
       "    <tr>\n",
       "      <th>1</th>\n",
       "      <td>10/15/20</td>\n",
       "      <td>4615.0</td>\n",
       "    </tr>\n",
       "    <tr>\n",
       "      <th>2</th>\n",
       "      <td>10/14/20</td>\n",
       "      <td>4564.0</td>\n",
       "    </tr>\n",
       "    <tr>\n",
       "      <th>3</th>\n",
       "      <td>10/13/20</td>\n",
       "      <td>5050.0</td>\n",
       "    </tr>\n",
       "    <tr>\n",
       "      <th>4</th>\n",
       "      <td>10/12/20</td>\n",
       "      <td>2384.0</td>\n",
       "    </tr>\n",
       "    <tr>\n",
       "      <th>...</th>\n",
       "      <td>...</td>\n",
       "      <td>...</td>\n",
       "    </tr>\n",
       "    <tr>\n",
       "      <th>222</th>\n",
       "      <td>3/8/20</td>\n",
       "      <td>0.0</td>\n",
       "    </tr>\n",
       "    <tr>\n",
       "      <th>223</th>\n",
       "      <td>3/7/20</td>\n",
       "      <td>0.0</td>\n",
       "    </tr>\n",
       "    <tr>\n",
       "      <th>224</th>\n",
       "      <td>3/6/20</td>\n",
       "      <td>5.0</td>\n",
       "    </tr>\n",
       "    <tr>\n",
       "      <th>225</th>\n",
       "      <td>3/5/20</td>\n",
       "      <td>0.0</td>\n",
       "    </tr>\n",
       "    <tr>\n",
       "      <th>226</th>\n",
       "      <td>3/4/20</td>\n",
       "      <td>0.0</td>\n",
       "    </tr>\n",
       "  </tbody>\n",
       "</table>\n",
       "<p>227 rows × 2 columns</p>\n",
       "</div>"
      ],
      "text/plain": [
       "         Date  New Cases\n",
       "0    10/16/20     5682.0\n",
       "1    10/15/20     4615.0\n",
       "2    10/14/20     4564.0\n",
       "3    10/13/20     5050.0\n",
       "4    10/12/20     2384.0\n",
       "..        ...        ...\n",
       "222    3/8/20        0.0\n",
       "223    3/7/20        0.0\n",
       "224    3/6/20        5.0\n",
       "225    3/5/20        0.0\n",
       "226    3/4/20        0.0\n",
       "\n",
       "[227 rows x 2 columns]"
      ]
     },
     "execution_count": 19,
     "metadata": {},
     "output_type": "execute_result"
    }
   ],
   "source": [
    "new_cases_travis.dropna()"
   ]
  },
  {
   "cell_type": "code",
   "execution_count": 62,
   "metadata": {},
   "outputs": [],
   "source": [
    "# Source OpenTable\n",
    "yoy_texas_reservations_sideways = pd.read_csv(\"YoY_Seated_Diner_Data.csv\")"
   ]
  },
  {
   "cell_type": "code",
   "execution_count": 63,
   "metadata": {},
   "outputs": [
    {
     "data": {
      "text/html": [
       "<div>\n",
       "<style scoped>\n",
       "    .dataframe tbody tr th:only-of-type {\n",
       "        vertical-align: middle;\n",
       "    }\n",
       "\n",
       "    .dataframe tbody tr th {\n",
       "        vertical-align: top;\n",
       "    }\n",
       "\n",
       "    .dataframe thead th {\n",
       "        text-align: right;\n",
       "    }\n",
       "</style>\n",
       "<table border=\"1\" class=\"dataframe\">\n",
       "  <thead>\n",
       "    <tr style=\"text-align: right;\">\n",
       "      <th></th>\n",
       "      <th>Date</th>\n",
       "      <th>18-Feb</th>\n",
       "      <th>19-Feb</th>\n",
       "      <th>20-Feb</th>\n",
       "      <th>21-Feb</th>\n",
       "      <th>22-Feb</th>\n",
       "      <th>23-Feb</th>\n",
       "      <th>24-Feb</th>\n",
       "      <th>25-Feb</th>\n",
       "      <th>26-Feb</th>\n",
       "      <th>...</th>\n",
       "      <th>6-Oct</th>\n",
       "      <th>7-Oct</th>\n",
       "      <th>8-Oct</th>\n",
       "      <th>9-Oct</th>\n",
       "      <th>10-Oct</th>\n",
       "      <th>11-Oct</th>\n",
       "      <th>12-Oct</th>\n",
       "      <th>13-Oct</th>\n",
       "      <th>14-Oct</th>\n",
       "      <th>15-Oct</th>\n",
       "    </tr>\n",
       "  </thead>\n",
       "  <tbody>\n",
       "    <tr>\n",
       "      <th>0</th>\n",
       "      <td>YoY Percent</td>\n",
       "      <td>0.0</td>\n",
       "      <td>-6.0</td>\n",
       "      <td>0.0</td>\n",
       "      <td>2.0</td>\n",
       "      <td>1.0</td>\n",
       "      <td>-3.0</td>\n",
       "      <td>0.0</td>\n",
       "      <td>9.0</td>\n",
       "      <td>0.0</td>\n",
       "      <td>...</td>\n",
       "      <td>-40.87</td>\n",
       "      <td>-41.46</td>\n",
       "      <td>-32.26</td>\n",
       "      <td>-22.17</td>\n",
       "      <td>-7.88</td>\n",
       "      <td>-15.81</td>\n",
       "      <td>-37.19</td>\n",
       "      <td>-39.68</td>\n",
       "      <td>-39.02</td>\n",
       "      <td>-33.04</td>\n",
       "    </tr>\n",
       "  </tbody>\n",
       "</table>\n",
       "<p>1 rows × 242 columns</p>\n",
       "</div>"
      ],
      "text/plain": [
       "          Date  18-Feb  19-Feb  20-Feb  21-Feb  22-Feb  23-Feb  24-Feb  \\\n",
       "0  YoY Percent     0.0    -6.0     0.0     2.0     1.0    -3.0     0.0   \n",
       "\n",
       "   25-Feb  26-Feb  ...  6-Oct  7-Oct  8-Oct  9-Oct  10-Oct  11-Oct  12-Oct  \\\n",
       "0     9.0     0.0  ... -40.87 -41.46 -32.26 -22.17   -7.88  -15.81  -37.19   \n",
       "\n",
       "   13-Oct  14-Oct  15-Oct  \n",
       "0  -39.68  -39.02  -33.04  \n",
       "\n",
       "[1 rows x 242 columns]"
      ]
     },
     "execution_count": 63,
     "metadata": {},
     "output_type": "execute_result"
    }
   ],
   "source": [
    "yoy_texas_reservations_sideways.dropna()"
   ]
  },
  {
   "cell_type": "code",
   "execution_count": 64,
   "metadata": {},
   "outputs": [],
   "source": [
    "yoy_texas_reservations = pd.DataFrame(columns=[\"Date\", \"Percent\"])"
   ]
  },
  {
   "cell_type": "code",
   "execution_count": 65,
   "metadata": {},
   "outputs": [
    {
     "data": {
      "text/html": [
       "<div>\n",
       "<style scoped>\n",
       "    .dataframe tbody tr th:only-of-type {\n",
       "        vertical-align: middle;\n",
       "    }\n",
       "\n",
       "    .dataframe tbody tr th {\n",
       "        vertical-align: top;\n",
       "    }\n",
       "\n",
       "    .dataframe thead th {\n",
       "        text-align: right;\n",
       "    }\n",
       "</style>\n",
       "<table border=\"1\" class=\"dataframe\">\n",
       "  <thead>\n",
       "    <tr style=\"text-align: right;\">\n",
       "      <th></th>\n",
       "      <th>18-Feb</th>\n",
       "      <th>19-Feb</th>\n",
       "      <th>20-Feb</th>\n",
       "      <th>21-Feb</th>\n",
       "      <th>22-Feb</th>\n",
       "      <th>23-Feb</th>\n",
       "      <th>24-Feb</th>\n",
       "      <th>25-Feb</th>\n",
       "      <th>26-Feb</th>\n",
       "      <th>27-Feb</th>\n",
       "      <th>...</th>\n",
       "      <th>6-Oct</th>\n",
       "      <th>7-Oct</th>\n",
       "      <th>8-Oct</th>\n",
       "      <th>9-Oct</th>\n",
       "      <th>10-Oct</th>\n",
       "      <th>11-Oct</th>\n",
       "      <th>12-Oct</th>\n",
       "      <th>13-Oct</th>\n",
       "      <th>14-Oct</th>\n",
       "      <th>15-Oct</th>\n",
       "    </tr>\n",
       "  </thead>\n",
       "  <tbody>\n",
       "    <tr>\n",
       "      <th>0</th>\n",
       "      <td>0.0</td>\n",
       "      <td>-6.0</td>\n",
       "      <td>0.0</td>\n",
       "      <td>2.0</td>\n",
       "      <td>1.0</td>\n",
       "      <td>-3.0</td>\n",
       "      <td>0.0</td>\n",
       "      <td>9.0</td>\n",
       "      <td>0.0</td>\n",
       "      <td>0.0</td>\n",
       "      <td>...</td>\n",
       "      <td>-40.87</td>\n",
       "      <td>-41.46</td>\n",
       "      <td>-32.26</td>\n",
       "      <td>-22.17</td>\n",
       "      <td>-7.88</td>\n",
       "      <td>-15.81</td>\n",
       "      <td>-37.19</td>\n",
       "      <td>-39.68</td>\n",
       "      <td>-39.02</td>\n",
       "      <td>-33.04</td>\n",
       "    </tr>\n",
       "    <tr>\n",
       "      <th>1</th>\n",
       "      <td>NaN</td>\n",
       "      <td>NaN</td>\n",
       "      <td>NaN</td>\n",
       "      <td>NaN</td>\n",
       "      <td>NaN</td>\n",
       "      <td>NaN</td>\n",
       "      <td>NaN</td>\n",
       "      <td>NaN</td>\n",
       "      <td>NaN</td>\n",
       "      <td>NaN</td>\n",
       "      <td>...</td>\n",
       "      <td>NaN</td>\n",
       "      <td>NaN</td>\n",
       "      <td>NaN</td>\n",
       "      <td>NaN</td>\n",
       "      <td>NaN</td>\n",
       "      <td>NaN</td>\n",
       "      <td>NaN</td>\n",
       "      <td>NaN</td>\n",
       "      <td>NaN</td>\n",
       "      <td>NaN</td>\n",
       "    </tr>\n",
       "    <tr>\n",
       "      <th>2</th>\n",
       "      <td>NaN</td>\n",
       "      <td>NaN</td>\n",
       "      <td>NaN</td>\n",
       "      <td>NaN</td>\n",
       "      <td>NaN</td>\n",
       "      <td>NaN</td>\n",
       "      <td>NaN</td>\n",
       "      <td>NaN</td>\n",
       "      <td>NaN</td>\n",
       "      <td>NaN</td>\n",
       "      <td>...</td>\n",
       "      <td>NaN</td>\n",
       "      <td>NaN</td>\n",
       "      <td>NaN</td>\n",
       "      <td>NaN</td>\n",
       "      <td>NaN</td>\n",
       "      <td>NaN</td>\n",
       "      <td>NaN</td>\n",
       "      <td>NaN</td>\n",
       "      <td>NaN</td>\n",
       "      <td>NaN</td>\n",
       "    </tr>\n",
       "    <tr>\n",
       "      <th>3</th>\n",
       "      <td>NaN</td>\n",
       "      <td>NaN</td>\n",
       "      <td>NaN</td>\n",
       "      <td>NaN</td>\n",
       "      <td>NaN</td>\n",
       "      <td>NaN</td>\n",
       "      <td>NaN</td>\n",
       "      <td>NaN</td>\n",
       "      <td>NaN</td>\n",
       "      <td>NaN</td>\n",
       "      <td>...</td>\n",
       "      <td>NaN</td>\n",
       "      <td>NaN</td>\n",
       "      <td>NaN</td>\n",
       "      <td>NaN</td>\n",
       "      <td>NaN</td>\n",
       "      <td>NaN</td>\n",
       "      <td>NaN</td>\n",
       "      <td>NaN</td>\n",
       "      <td>NaN</td>\n",
       "      <td>NaN</td>\n",
       "    </tr>\n",
       "    <tr>\n",
       "      <th>4</th>\n",
       "      <td>NaN</td>\n",
       "      <td>NaN</td>\n",
       "      <td>NaN</td>\n",
       "      <td>NaN</td>\n",
       "      <td>NaN</td>\n",
       "      <td>NaN</td>\n",
       "      <td>NaN</td>\n",
       "      <td>NaN</td>\n",
       "      <td>NaN</td>\n",
       "      <td>NaN</td>\n",
       "      <td>...</td>\n",
       "      <td>NaN</td>\n",
       "      <td>NaN</td>\n",
       "      <td>NaN</td>\n",
       "      <td>NaN</td>\n",
       "      <td>NaN</td>\n",
       "      <td>NaN</td>\n",
       "      <td>NaN</td>\n",
       "      <td>NaN</td>\n",
       "      <td>NaN</td>\n",
       "      <td>NaN</td>\n",
       "    </tr>\n",
       "  </tbody>\n",
       "</table>\n",
       "<p>5 rows × 241 columns</p>\n",
       "</div>"
      ],
      "text/plain": [
       "   18-Feb  19-Feb  20-Feb  21-Feb  22-Feb  23-Feb  24-Feb  25-Feb  26-Feb  \\\n",
       "0     0.0    -6.0     0.0     2.0     1.0    -3.0     0.0     9.0     0.0   \n",
       "1     NaN     NaN     NaN     NaN     NaN     NaN     NaN     NaN     NaN   \n",
       "2     NaN     NaN     NaN     NaN     NaN     NaN     NaN     NaN     NaN   \n",
       "3     NaN     NaN     NaN     NaN     NaN     NaN     NaN     NaN     NaN   \n",
       "4     NaN     NaN     NaN     NaN     NaN     NaN     NaN     NaN     NaN   \n",
       "\n",
       "   27-Feb  ...  6-Oct  7-Oct  8-Oct  9-Oct  10-Oct  11-Oct  12-Oct  13-Oct  \\\n",
       "0     0.0  ... -40.87 -41.46 -32.26 -22.17   -7.88  -15.81  -37.19  -39.68   \n",
       "1     NaN  ...    NaN    NaN    NaN    NaN     NaN     NaN     NaN     NaN   \n",
       "2     NaN  ...    NaN    NaN    NaN    NaN     NaN     NaN     NaN     NaN   \n",
       "3     NaN  ...    NaN    NaN    NaN    NaN     NaN     NaN     NaN     NaN   \n",
       "4     NaN  ...    NaN    NaN    NaN    NaN     NaN     NaN     NaN     NaN   \n",
       "\n",
       "   14-Oct  15-Oct  \n",
       "0  -39.02  -33.04  \n",
       "1     NaN     NaN  \n",
       "2     NaN     NaN  \n",
       "3     NaN     NaN  \n",
       "4     NaN     NaN  \n",
       "\n",
       "[5 rows x 241 columns]"
      ]
     },
     "execution_count": 65,
     "metadata": {},
     "output_type": "execute_result"
    }
   ],
   "source": [
    "yoy_texas_reservations_sideways.drop(\"Date\", axis=1)"
   ]
  },
  {
   "cell_type": "code",
   "execution_count": 79,
   "metadata": {},
   "outputs": [],
   "source": [
    "for date in yoy_texas_reservations_sideways.columns:\n",
    "    if date != \"Date\":\n",
    "        temp = pd.Series([date, yoy_texas_reservations_sideways[date][0]], index = yoy_texas_reservations.columns)\n",
    "        yoy_texas_reservations = yoy_texas_reservations.append(temp, ignore_index=True)"
   ]
  },
  {
   "cell_type": "code",
   "execution_count": 82,
   "metadata": {},
   "outputs": [],
   "source": [
    "# Source: https://data.austintexas.gov/Public-Safety/Austin-Code-COVID-19-Complaint-Cases-Dashboard/5bvq-24pm\n",
    "covid_complaints = pd.read_csv(\"Austin_Code_COVID-19_Complaint_Cases.csv\")"
   ]
  },
  {
   "cell_type": "code",
   "execution_count": 86,
   "metadata": {},
   "outputs": [],
   "source": [
    "covid_complaints = covid_complaints[\"OPENDATE\"]"
   ]
  },
  {
   "cell_type": "code",
   "execution_count": 87,
   "metadata": {},
   "outputs": [
    {
     "data": {
      "text/plain": [
       "0       10/04/2020 12:00:00 AM\n",
       "1       05/30/2020 12:00:00 AM\n",
       "2       03/19/2020 12:00:00 AM\n",
       "3       04/10/2020 12:00:00 AM\n",
       "4       03/29/2020 12:00:00 AM\n",
       "                 ...          \n",
       "7375    08/26/2020 12:00:00 AM\n",
       "7376    09/10/2020 12:00:00 AM\n",
       "7377    08/01/2020 12:00:00 AM\n",
       "7378    06/25/2020 12:00:00 AM\n",
       "7379    03/26/2020 12:00:00 AM\n",
       "Name: OPENDATE, Length: 7380, dtype: object"
      ]
     },
     "execution_count": 87,
     "metadata": {},
     "output_type": "execute_result"
    }
   ],
   "source": [
    "# TODO: COUNT THE NUMBER OF COMPLAINTS PER DAY\n",
    "for complaint in covid_complaints:\n",
    "    date_time = datetime.strptime(complaint[0], '%b %d %Y %I:%M%p')complaint[0]"
   ]
  },
  {
   "cell_type": "markdown",
   "metadata": {},
   "source": [
    "# The following data is all from YouGov (fear of covid, avoiding crowds, wearing masks, support quarantine)\n",
    "## All data is from March 2 - October 12"
   ]
  },
  {
   "cell_type": "code",
   "execution_count": 101,
   "metadata": {},
   "outputs": [],
   "source": [
    "covid_fear = pd.read_csv(\"covid-fear.csv\")"
   ]
  },
  {
   "cell_type": "code",
   "execution_count": 102,
   "metadata": {},
   "outputs": [],
   "source": [
    "support_quarantine = pd.read_csv(\"support-quarantine.csv\")"
   ]
  },
  {
   "cell_type": "code",
   "execution_count": 103,
   "metadata": {},
   "outputs": [],
   "source": [
    "wearing_masks = pd.read_csv(\"wearing-masks.csv\")"
   ]
  },
  {
   "cell_type": "code",
   "execution_count": 104,
   "metadata": {},
   "outputs": [],
   "source": [
    "avoiding_crowds = pd.read_csv(\"avoid-crowds.csv\")"
   ]
  },
  {
   "cell_type": "code",
   "execution_count": 106,
   "metadata": {},
   "outputs": [],
   "source": [
    "# From DSHS and Austin - Travis County COVID-19 Dashboard Public Datasets\n",
    "hospital_data = pd.read_csv(\"hospital-data.csv\")"
   ]
  },
  {
   "cell_type": "code",
   "execution_count": null,
   "metadata": {},
   "outputs": [],
   "source": []
  },
  {
   "cell_type": "markdown",
   "metadata": {},
   "source": [
    "# Data so far: New cases, year on year % restaurant reservations, covid complaints(in-progress), % fearing covid , support for quaranting, % wearing masks, % avoiding crowds, % of total hospital capacity dedicated to covid, # of hospitalisations for covid, % of hospitalisations for covid, # of ICU beds for covid"
   ]
  },
  {
   "cell_type": "markdown",
   "metadata": {},
   "source": [
    "# Target Feature: Number of infections for covid (in 2.5 months)"
   ]
  },
  {
   "cell_type": "code",
   "execution_count": null,
   "metadata": {},
   "outputs": [],
   "source": []
  }
 ],
 "metadata": {
  "kernelspec": {
   "display_name": "Python 3",
   "language": "python",
   "name": "python3"
  },
  "language_info": {
   "codemirror_mode": {
    "name": "ipython",
    "version": 3
   },
   "file_extension": ".py",
   "mimetype": "text/x-python",
   "name": "python",
   "nbconvert_exporter": "python",
   "pygments_lexer": "ipython3",
   "version": "3.8.3"
  }
 },
 "nbformat": 4,
 "nbformat_minor": 4
}
