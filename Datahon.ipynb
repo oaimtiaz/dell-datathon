{
 "cells": [
  {
   "cell_type": "code",
   "execution_count": 1,
   "metadata": {},
   "outputs": [],
   "source": [
    "import numpy as np\n",
    "import pandas as pd\n",
    "import time\n",
    "from datetime import datetime"
   ]
  },
  {
   "cell_type": "code",
   "execution_count": 2,
   "metadata": {},
   "outputs": [],
   "source": [
    "dfs = []"
   ]
  },
  {
   "cell_type": "code",
   "execution_count": 3,
   "metadata": {},
   "outputs": [],
   "source": [
    "# source Texas DSHS\n",
    "new_cases_travis = pd.read_csv(r\"Texas_County_Cases_per_Day_data.csv\")"
   ]
  },
  {
   "cell_type": "code",
   "execution_count": 4,
   "metadata": {},
   "outputs": [],
   "source": [
    "new_cases_travis = new_cases_travis.dropna()"
   ]
  },
  {
   "cell_type": "code",
   "execution_count": 5,
   "metadata": {},
   "outputs": [
    {
     "name": "stderr",
     "output_type": "stream",
     "text": [
      "<ipython-input-5-fdd494afff71>:2: SettingWithCopyWarning: \n",
      "A value is trying to be set on a copy of a slice from a DataFrame\n",
      "\n",
      "See the caveats in the documentation: https://pandas.pydata.org/pandas-docs/stable/user_guide/indexing.html#returning-a-view-versus-a-copy\n",
      "  new_cases_travis[\"Date\"][i] = datetime.strptime(new_cases_travis[\"Date\"][i], \"%m/%d/%y\").date()\n"
     ]
    }
   ],
   "source": [
    "for i in range(len(new_cases_travis)):\n",
    "    new_cases_travis[\"Date\"][i] = datetime.strptime(new_cases_travis[\"Date\"][i], \"%m/%d/%y\").date()"
   ]
  },
  {
   "cell_type": "code",
   "execution_count": 6,
   "metadata": {},
   "outputs": [],
   "source": [
    "dfs.append(new_cases_travis)"
   ]
  },
  {
   "cell_type": "code",
   "execution_count": 7,
   "metadata": {},
   "outputs": [],
   "source": [
    "# Source OpenTable (yoy = Year over year)\n",
    "yoy_texas_reservations_sideways = pd.read_csv(\"YoY_Seated_Diner_Data.csv\")"
   ]
  },
  {
   "cell_type": "code",
   "execution_count": 8,
   "metadata": {},
   "outputs": [],
   "source": [
    "yoy_texas_reservations_sideways = yoy_texas_reservations_sideways.dropna()"
   ]
  },
  {
   "cell_type": "code",
   "execution_count": 9,
   "metadata": {},
   "outputs": [],
   "source": [
    "yoy_texas_reservations = pd.DataFrame(columns=[\"Date\", \"Percent\"])"
   ]
  },
  {
   "cell_type": "code",
   "execution_count": 10,
   "metadata": {},
   "outputs": [
    {
     "data": {
      "text/html": [
       "<div>\n",
       "<style scoped>\n",
       "    .dataframe tbody tr th:only-of-type {\n",
       "        vertical-align: middle;\n",
       "    }\n",
       "\n",
       "    .dataframe tbody tr th {\n",
       "        vertical-align: top;\n",
       "    }\n",
       "\n",
       "    .dataframe thead th {\n",
       "        text-align: right;\n",
       "    }\n",
       "</style>\n",
       "<table border=\"1\" class=\"dataframe\">\n",
       "  <thead>\n",
       "    <tr style=\"text-align: right;\">\n",
       "      <th></th>\n",
       "      <th>18-Feb</th>\n",
       "      <th>19-Feb</th>\n",
       "      <th>20-Feb</th>\n",
       "      <th>21-Feb</th>\n",
       "      <th>22-Feb</th>\n",
       "      <th>23-Feb</th>\n",
       "      <th>24-Feb</th>\n",
       "      <th>25-Feb</th>\n",
       "      <th>26-Feb</th>\n",
       "      <th>27-Feb</th>\n",
       "      <th>...</th>\n",
       "      <th>6-Oct</th>\n",
       "      <th>7-Oct</th>\n",
       "      <th>8-Oct</th>\n",
       "      <th>9-Oct</th>\n",
       "      <th>10-Oct</th>\n",
       "      <th>11-Oct</th>\n",
       "      <th>12-Oct</th>\n",
       "      <th>13-Oct</th>\n",
       "      <th>14-Oct</th>\n",
       "      <th>15-Oct</th>\n",
       "    </tr>\n",
       "  </thead>\n",
       "  <tbody>\n",
       "    <tr>\n",
       "      <th>0</th>\n",
       "      <td>0.0</td>\n",
       "      <td>-6.0</td>\n",
       "      <td>0.0</td>\n",
       "      <td>2.0</td>\n",
       "      <td>1.0</td>\n",
       "      <td>-3.0</td>\n",
       "      <td>0.0</td>\n",
       "      <td>9.0</td>\n",
       "      <td>0.0</td>\n",
       "      <td>0.0</td>\n",
       "      <td>...</td>\n",
       "      <td>-40.87</td>\n",
       "      <td>-41.46</td>\n",
       "      <td>-32.26</td>\n",
       "      <td>-22.17</td>\n",
       "      <td>-7.88</td>\n",
       "      <td>-15.81</td>\n",
       "      <td>-37.19</td>\n",
       "      <td>-39.68</td>\n",
       "      <td>-39.02</td>\n",
       "      <td>-33.04</td>\n",
       "    </tr>\n",
       "  </tbody>\n",
       "</table>\n",
       "<p>1 rows × 241 columns</p>\n",
       "</div>"
      ],
      "text/plain": [
       "   18-Feb  19-Feb  20-Feb  21-Feb  22-Feb  23-Feb  24-Feb  25-Feb  26-Feb  \\\n",
       "0     0.0    -6.0     0.0     2.0     1.0    -3.0     0.0     9.0     0.0   \n",
       "\n",
       "   27-Feb  ...  6-Oct  7-Oct  8-Oct  9-Oct  10-Oct  11-Oct  12-Oct  13-Oct  \\\n",
       "0     0.0  ... -40.87 -41.46 -32.26 -22.17   -7.88  -15.81  -37.19  -39.68   \n",
       "\n",
       "   14-Oct  15-Oct  \n",
       "0  -39.02  -33.04  \n",
       "\n",
       "[1 rows x 241 columns]"
      ]
     },
     "execution_count": 10,
     "metadata": {},
     "output_type": "execute_result"
    }
   ],
   "source": [
    "yoy_texas_reservations_sideways.drop(\"Date\", axis=1)"
   ]
  },
  {
   "cell_type": "code",
   "execution_count": 11,
   "metadata": {},
   "outputs": [],
   "source": [
    "for date in yoy_texas_reservations_sideways.columns:\n",
    "    if date != \"Date\":\n",
    "        temp = pd.Series([date, yoy_texas_reservations_sideways[date][0]], index = yoy_texas_reservations.columns)\n",
    "        yoy_texas_reservations = yoy_texas_reservations.append(temp, ignore_index=True)"
   ]
  },
  {
   "cell_type": "code",
   "execution_count": 12,
   "metadata": {},
   "outputs": [
    {
     "name": "stderr",
     "output_type": "stream",
     "text": [
      "<ipython-input-12-7108525b74ba>:3: SettingWithCopyWarning: \n",
      "A value is trying to be set on a copy of a slice from a DataFrame\n",
      "\n",
      "See the caveats in the documentation: https://pandas.pydata.org/pandas-docs/stable/user_guide/indexing.html#returning-a-view-versus-a-copy\n",
      "  yoy_texas_reservations[\"Date\"][i] = datetime.strptime(yoy_texas_reservations[\"Date\"][i], \"%d-%b\").replace(year=2020).date()\n",
      "<ipython-input-12-7108525b74ba>:5: SettingWithCopyWarning: \n",
      "A value is trying to be set on a copy of a slice from a DataFrame\n",
      "\n",
      "See the caveats in the documentation: https://pandas.pydata.org/pandas-docs/stable/user_guide/indexing.html#returning-a-view-versus-a-copy\n",
      "  yoy_texas_reservations[\"Date\"][i] = datetime(2020, 2, 29).date()\n"
     ]
    }
   ],
   "source": [
    "for i in range(len(yoy_texas_reservations)):\n",
    "    try:\n",
    "        yoy_texas_reservations[\"Date\"][i] = datetime.strptime(yoy_texas_reservations[\"Date\"][i], \"%d-%b\").replace(year=2020).date()\n",
    "    except:\n",
    "        yoy_texas_reservations[\"Date\"][i] = datetime(2020, 2, 29).date()\n",
    "        continue\n",
    "    "
   ]
  },
  {
   "cell_type": "code",
   "execution_count": 13,
   "metadata": {},
   "outputs": [],
   "source": [
    "dfs.append(yoy_texas_reservations)"
   ]
  },
  {
   "cell_type": "code",
   "execution_count": 14,
   "metadata": {},
   "outputs": [],
   "source": [
    "# Source: https://data.austintexas.gov/Public-Safety/Austin-Code-COVID-19-Complaint-Cases-Dashboard/5bvq-24pm\n",
    "covid_complaints = pd.read_csv(\"Austin_Code_COVID-19_Complaint_Cases.csv\")"
   ]
  },
  {
   "cell_type": "code",
   "execution_count": 94,
   "metadata": {},
   "outputs": [
    {
     "name": "stdout",
     "output_type": "stream",
     "text": [
      "03/31/2020 12:00:00 AM    136\n",
      "03/28/2020 12:00:00 AM    135\n",
      "04/17/2020 12:00:00 AM    133\n",
      "04/10/2020 12:00:00 AM    126\n",
      "04/11/2020 12:00:00 AM    121\n",
      "                         ... \n",
      "10/07/2020 12:00:00 AM      4\n",
      "06/04/2020 12:00:00 AM      3\n",
      "06/13/2020 12:00:00 AM      3\n",
      "06/12/2020 12:00:00 AM      3\n",
      "06/15/2020 12:00:00 AM      3\n",
      "Name: Date, Length: 210, dtype: int64\n"
     ]
    }
   ],
   "source": [
    "dates_freq = pd.DataFrame({'Timestamp': sorted(covid_complaints['OPENDATE'])})\n",
    "dates_freq = dates_freq.rename(columns = {\"Timestamp\":\"Date\"})\n",
    "print(dates_freq['Date'].value_counts())"
   ]
  },
  {
   "cell_type": "code",
   "execution_count": 16,
   "metadata": {},
   "outputs": [],
   "source": [
    "dfs.append(complaints_per_day)"
   ]
  },
  {
   "cell_type": "markdown",
   "metadata": {},
   "source": [
    "# The following data is all from YouGov (fear of covid, avoiding crowds, wearing masks, support quarantine)\n",
    "## All data is from March 2 - October 12"
   ]
  },
  {
   "cell_type": "code",
   "execution_count": 17,
   "metadata": {},
   "outputs": [
    {
     "name": "stderr",
     "output_type": "stream",
     "text": [
      "<ipython-input-17-448f203ca9dc>:3: SettingWithCopyWarning: \n",
      "A value is trying to be set on a copy of a slice from a DataFrame\n",
      "\n",
      "See the caveats in the documentation: https://pandas.pydata.org/pandas-docs/stable/user_guide/indexing.html#returning-a-view-versus-a-copy\n",
      "  covid_fear[\"DateTime\"][i] = datetime.strptime(covid_fear[\"DateTime\"][i], \"%Y-%m-%d %H:%M:%S\").replace(year=2020).date()\n"
     ]
    }
   ],
   "source": [
    "covid_fear = pd.read_csv(\"covid-fear.csv\")\n",
    "for i in range(len(covid_fear[\"DateTime\"])):\n",
    "    covid_fear[\"DateTime\"][i] = datetime.strptime(covid_fear[\"DateTime\"][i], \"%Y-%m-%d %H:%M:%S\").replace(year=2020).date()\n",
    "\n",
    "covid_fear = covid_fear.rename(columns = {\"DateTime\":\"Date\", \"USA\":\"covid-fear\"})"
   ]
  },
  {
   "cell_type": "code",
   "execution_count": 18,
   "metadata": {},
   "outputs": [],
   "source": [
    "dfs.append(covid_fear)"
   ]
  },
  {
   "cell_type": "code",
   "execution_count": 19,
   "metadata": {},
   "outputs": [
    {
     "name": "stderr",
     "output_type": "stream",
     "text": [
      "<ipython-input-19-9ef529903a03>:3: SettingWithCopyWarning: \n",
      "A value is trying to be set on a copy of a slice from a DataFrame\n",
      "\n",
      "See the caveats in the documentation: https://pandas.pydata.org/pandas-docs/stable/user_guide/indexing.html#returning-a-view-versus-a-copy\n",
      "  support_quarantine[\"DateTime\"][i] = datetime.strptime(support_quarantine[\"DateTime\"][i], \"%Y-%m-%d %H:%M:%S\").replace(year=2020).date()\n"
     ]
    }
   ],
   "source": [
    "support_quarantine = pd.read_csv(\"support-quarantine.csv\")\n",
    "for i in range(len(support_quarantine[\"DateTime\"])):\n",
    "    support_quarantine[\"DateTime\"][i] = datetime.strptime(support_quarantine[\"DateTime\"][i], \"%Y-%m-%d %H:%M:%S\").replace(year=2020).date()\n",
    "support_quarantine = support_quarantine.rename(columns = {\"DateTime\":\"Date\", \"USA\":\"support-quarantine\"})\n",
    "    "
   ]
  },
  {
   "cell_type": "code",
   "execution_count": 20,
   "metadata": {},
   "outputs": [],
   "source": [
    "dfs.append(support_quarantine)"
   ]
  },
  {
   "cell_type": "code",
   "execution_count": 21,
   "metadata": {},
   "outputs": [
    {
     "name": "stderr",
     "output_type": "stream",
     "text": [
      "<ipython-input-21-d5c04f765244>:3: SettingWithCopyWarning: \n",
      "A value is trying to be set on a copy of a slice from a DataFrame\n",
      "\n",
      "See the caveats in the documentation: https://pandas.pydata.org/pandas-docs/stable/user_guide/indexing.html#returning-a-view-versus-a-copy\n",
      "  wearing_masks[\"DateTime\"][i] = datetime.strptime(wearing_masks[\"DateTime\"][i], \"%Y-%m-%d %H:%M:%S\").replace(year=2020).date()\n"
     ]
    }
   ],
   "source": [
    "wearing_masks = pd.read_csv(\"wearing-masks.csv\")\n",
    "for i in range(len(wearing_masks[\"DateTime\"])):\n",
    "    wearing_masks[\"DateTime\"][i] = datetime.strptime(wearing_masks[\"DateTime\"][i], \"%Y-%m-%d %H:%M:%S\").replace(year=2020).date()\n",
    "wearing_masks = wearing_masks.rename(columns = {\"DateTime\":\"Date\", \"USA\":\"wearing-masks\"})\n"
   ]
  },
  {
   "cell_type": "code",
   "execution_count": 22,
   "metadata": {},
   "outputs": [],
   "source": [
    "dfs.append(wearing_masks)"
   ]
  },
  {
   "cell_type": "code",
   "execution_count": 23,
   "metadata": {},
   "outputs": [
    {
     "name": "stderr",
     "output_type": "stream",
     "text": [
      "<ipython-input-23-dffe544b0cfc>:3: SettingWithCopyWarning: \n",
      "A value is trying to be set on a copy of a slice from a DataFrame\n",
      "\n",
      "See the caveats in the documentation: https://pandas.pydata.org/pandas-docs/stable/user_guide/indexing.html#returning-a-view-versus-a-copy\n",
      "  avoiding_crowds[\"DateTime\"][i] = datetime.strptime(avoiding_crowds[\"DateTime\"][i], \"%Y-%m-%d %H:%M:%S\").replace(year=2020).date()\n"
     ]
    }
   ],
   "source": [
    "avoiding_crowds = pd.read_csv(\"avoid-crowds.csv\")\n",
    "for i in range(len(avoiding_crowds[\"DateTime\"])):\n",
    "    avoiding_crowds[\"DateTime\"][i] = datetime.strptime(avoiding_crowds[\"DateTime\"][i], \"%Y-%m-%d %H:%M:%S\").replace(year=2020).date()\n",
    "avoiding_crowds = avoiding_crowds.rename(columns = {\"DateTime\":\"Date\", \"USA\":\"avoiding-crowds\"})\n"
   ]
  },
  {
   "cell_type": "code",
   "execution_count": 24,
   "metadata": {},
   "outputs": [],
   "source": [
    "dfs.append(avoiding_crowds)"
   ]
  },
  {
   "cell_type": "code",
   "execution_count": 25,
   "metadata": {},
   "outputs": [
    {
     "name": "stderr",
     "output_type": "stream",
     "text": [
      "<ipython-input-25-426a8f4d65d7>:4: SettingWithCopyWarning: \n",
      "A value is trying to be set on a copy of a slice from a DataFrame\n",
      "\n",
      "See the caveats in the documentation: https://pandas.pydata.org/pandas-docs/stable/user_guide/indexing.html#returning-a-view-versus-a-copy\n",
      "  hospital_data[\"Date\"][i] = datetime.strptime(hospital_data[\"Date\"][i], \"%m/%d/%y\").replace(year=2020).date()\n"
     ]
    }
   ],
   "source": [
    "# From DSHS and Austin - Travis County COVID-19 Dashboard Public Datasets\n",
    "hospital_data = pd.read_csv(\"hospital-data.csv\")\n",
    "for i in range(len(hospital_data[\"Date\"])):\n",
    "    hospital_data[\"Date\"][i] = datetime.strptime(hospital_data[\"Date\"][i], \"%m/%d/%y\").replace(year=2020).date()"
   ]
  },
  {
   "cell_type": "code",
   "execution_count": 26,
   "metadata": {},
   "outputs": [],
   "source": [
    "dfs.append(hospital_data)"
   ]
  },
  {
   "cell_type": "code",
   "execution_count": 27,
   "metadata": {},
   "outputs": [
    {
     "name": "stderr",
     "output_type": "stream",
     "text": [
      "<ipython-input-27-cd2298ce5826>:4: SettingWithCopyWarning: \n",
      "A value is trying to be set on a copy of a slice from a DataFrame\n",
      "\n",
      "See the caveats in the documentation: https://pandas.pydata.org/pandas-docs/stable/user_guide/indexing.html#returning-a-view-versus-a-copy\n",
      "  total_cases[\"Last_Update\"][i] = datetime.strptime(total_cases[\"Last_Update\"][i], \"%m/%d/%y %H:%M\").replace(year=2020).date()\n"
     ]
    }
   ],
   "source": [
    "# Case counts: Austin Travis County COVID19 Daily Counts (Public View)\n",
    "total_cases = pd.read_csv(\"total-cases.csv\")\n",
    "for i in range(len(total_cases[\"Last_Update\"])):\n",
    "    total_cases[\"Last_Update\"][i] = datetime.strptime(total_cases[\"Last_Update\"][i], \"%m/%d/%y %H:%M\").replace(year=2020).date()\n",
    "    "
   ]
  },
  {
   "cell_type": "code",
   "execution_count": 28,
   "metadata": {},
   "outputs": [],
   "source": [
    "dfs.append(total_cases)"
   ]
  },
  {
   "cell_type": "markdown",
   "metadata": {},
   "source": [
    "# Data so far: \n",
    "1. New cases, \n",
    "2. year on year % restaurant reservations, \n",
    "3. covid complaints(in-progress), \n",
    "4. % fearing covid , \n",
    "5. support for quaranting, \n",
    "6. % wearing masks, \n",
    "7. % avoiding crowds, \n",
    "8. % of total hospital capacity dedicated to covid, \n",
    "9. /# of hospitalisations for covid, \n",
    "10. % of hospitalisations for covid, \n",
    "11. /# of ICU beds for covid, \n",
    "12. /# cases"
   ]
  },
  {
   "cell_type": "markdown",
   "metadata": {},
   "source": [
    "# Target Feature: Number of infections for covid (in 2.5 months)"
   ]
  },
  {
   "cell_type": "code",
   "execution_count": 33,
   "metadata": {},
   "outputs": [],
   "source": [
    "first_df = dfs[0]\n",
    "first_df.set_index('Date')\n",
    "for i in range(1, len(dfs)):\n",
    "    next_df = dfs[i]\n",
    "    first_df = pd.merge(first_df, next_df, how='inner', left_index=True, right_index=True)"
   ]
  },
  {
   "cell_type": "code",
   "execution_count": 37,
   "metadata": {},
   "outputs": [
    {
     "name": "stdout",
     "output_type": "stream",
     "text": [
      "           Date  New Cases\n",
      "0    2020-10-16     5682.0\n",
      "1    2020-10-15     4615.0\n",
      "2    2020-10-14     4564.0\n",
      "3    2020-10-13     5050.0\n",
      "4    2020-10-12     2384.0\n",
      "..          ...        ...\n",
      "222  2020-03-08        0.0\n",
      "223  2020-03-07        0.0\n",
      "224  2020-03-06        5.0\n",
      "225  2020-03-05        0.0\n",
      "226  2020-03-04        0.0\n",
      "\n",
      "[227 rows x 2 columns]\n",
      "           Date  Percent\n",
      "0    2020-02-18     0.00\n",
      "1    2020-02-19    -6.00\n",
      "2    2020-02-20     0.00\n",
      "3    2020-02-21     2.00\n",
      "4    2020-02-22     1.00\n",
      "..          ...      ...\n",
      "236  2020-10-11   -15.81\n",
      "237  2020-10-12   -37.19\n",
      "238  2020-10-13   -39.68\n",
      "239  2020-10-14   -39.02\n",
      "240  2020-10-15   -33.04\n",
      "\n",
      "[241 rows x 2 columns]\n",
      "                        Date  complaints\n",
      "0     03/19/2020 12:00:00 AM         NaN\n",
      "1     03/19/2020 12:00:00 AM         NaN\n",
      "2     03/19/2020 12:00:00 AM         NaN\n",
      "3     03/19/2020 12:00:00 AM         NaN\n",
      "4     03/19/2020 12:00:00 AM         NaN\n",
      "...                      ...         ...\n",
      "7375  10/15/2020 12:00:00 AM         NaN\n",
      "7376  10/15/2020 12:00:00 AM         NaN\n",
      "7377  10/15/2020 12:00:00 AM         NaN\n",
      "7378  10/15/2020 12:00:00 AM         NaN\n",
      "7379  10/15/2020 12:00:00 AM         NaN\n",
      "\n",
      "[7380 rows x 2 columns]\n",
      "          Date  covid-fear\n",
      "0   2020-03-02          34\n",
      "1   2020-03-17          41\n",
      "2   2020-03-23          52\n",
      "3   2020-03-30          60\n",
      "4   2020-04-06          60\n",
      "5   2020-04-13          59\n",
      "6   2020-04-20          60\n",
      "7   2020-04-27          57\n",
      "8   2020-05-26          55\n",
      "9   2020-06-01          54\n",
      "10  2020-06-08          50\n",
      "11  2020-06-15          55\n",
      "12  2020-06-22          55\n",
      "13  2020-07-06          58\n",
      "14  2020-07-14          58\n",
      "15  2020-07-20          58\n",
      "16  2020-07-27          58\n",
      "17  2020-08-03          57\n",
      "18  2020-08-07          48\n",
      "19  2020-08-10          63\n",
      "20  2020-08-17          59\n",
      "21  2020-08-21          49\n",
      "22  2020-08-25          59\n",
      "23  2020-09-01          57\n",
      "24  2020-09-08          55\n",
      "25  2020-09-14          56\n",
      "26  2020-09-18          46\n",
      "27  2020-09-21          58\n",
      "28  2020-09-28          55\n",
      "29  2020-10-06          60\n",
      "30  2020-10-12          57\n",
      "          Date  support-quarantine\n",
      "0   2020-03-02                  58\n",
      "1   2020-03-17                  61\n",
      "2   2020-03-23                  64\n",
      "3   2020-03-30                  71\n",
      "4   2020-04-06                  69\n",
      "5   2020-04-13                  69\n",
      "6   2020-04-20                  66\n",
      "7   2020-04-27                  66\n",
      "8   2020-05-06                  62\n",
      "9   2020-05-26                  56\n",
      "10  2020-06-01                  56\n",
      "11  2020-06-08                  50\n",
      "12  2020-06-15                  56\n",
      "13  2020-06-22                  53\n",
      "14  2020-07-06                  54\n",
      "15  2020-07-14                  57\n",
      "16  2020-07-20                  50\n",
      "17  2020-07-27                  55\n",
      "18  2020-08-03                  52\n",
      "19  2020-08-10                  58\n",
      "20  2020-08-17                  56\n",
      "21  2020-08-25                  53\n",
      "22  2020-09-01                  52\n",
      "23  2020-09-08                  51\n",
      "24  2020-09-14                  55\n",
      "25  2020-09-21                  55\n",
      "26  2020-09-28                  54\n",
      "27  2020-10-06                  55\n",
      "28  2020-10-12                  56\n",
      "          Date  wearing-masks\n",
      "0   2020-03-02              7\n",
      "1   2020-03-17              5\n",
      "2   2020-03-23             11\n",
      "3   2020-03-30             17\n",
      "4   2020-04-06             29\n",
      "5   2020-04-13             49\n",
      "6   2020-04-20             58\n",
      "7   2020-04-27             63\n",
      "8   2020-05-26             68\n",
      "9   2020-06-01             69\n",
      "10  2020-06-08             66\n",
      "11  2020-06-15             69\n",
      "12  2020-06-22             71\n",
      "13  2020-07-06             73\n",
      "14  2020-07-14             78\n",
      "15  2020-07-20             74\n",
      "16  2020-07-27             77\n",
      "17  2020-08-03             75\n",
      "18  2020-08-10             81\n",
      "19  2020-08-17             77\n",
      "20  2020-08-25             77\n",
      "21  2020-09-01             79\n",
      "22  2020-09-08             75\n",
      "23  2020-09-14             77\n",
      "24  2020-09-21             76\n",
      "25  2020-09-28             78\n",
      "26  2020-10-06             77\n",
      "27  2020-10-12             79\n",
      "          Date  avoiding-crowds\n",
      "0   2020-03-02               24\n",
      "1   2020-03-17               49\n",
      "2   2020-03-23               65\n",
      "3   2020-03-30               77\n",
      "4   2020-04-06               72\n",
      "5   2020-04-13               75\n",
      "6   2020-04-20               73\n",
      "7   2020-04-27               72\n",
      "8   2020-05-26               65\n",
      "9   2020-06-01               65\n",
      "10  2020-06-08               60\n",
      "11  2020-06-15               64\n",
      "12  2020-06-22               63\n",
      "13  2020-07-06               66\n",
      "14  2020-07-14               69\n",
      "15  2020-07-20               65\n",
      "16  2020-07-27               65\n",
      "17  2020-08-03               64\n",
      "18  2020-08-10               70\n",
      "19  2020-08-17               64\n",
      "20  2020-08-25               62\n",
      "21  2020-09-01               62\n",
      "22  2020-09-08               64\n",
      "23  2020-09-14               65\n",
      "24  2020-09-21               63\n",
      "25  2020-09-28               64\n",
      "26  2020-10-06               65\n",
      "27  2020-10-12               65\n",
      "           Date % of hospital capacity for covid  # of hospitalisations  \\\n",
      "0    2020-04-12                            0.90%                     22   \n",
      "1    2020-04-13                            1.20%                     26   \n",
      "2    2020-04-14                            1.10%                     28   \n",
      "3    2020-04-15                            1.30%                     30   \n",
      "4    2020-04-16                            0.90%                     22   \n",
      "..          ...                              ...                    ...   \n",
      "183  2020-10-12                            2.20%                     91   \n",
      "184  2020-10-13                            2.30%                     96   \n",
      "185  2020-10-14                            2.40%                     99   \n",
      "186  2020-10-15                            2.30%                     99   \n",
      "187  2020-10-16                            2.30%                     99   \n",
      "\n",
      "    % of hospitalizations for covid  # ICU Beds for covid  \n",
      "0                             2.10%                    12  \n",
      "1                             2.50%                    15  \n",
      "2                             2.40%                    16  \n",
      "3                             2.90%                    17  \n",
      "4                             2.30%                    14  \n",
      "..                              ...                   ...  \n",
      "183                           2.90%                    32  \n",
      "184                           3.10%                    34  \n",
      "185                           3.10%                    34  \n",
      "186                           3.10%                    39  \n",
      "187                           3.10%                    38  \n",
      "\n",
      "[188 rows x 5 columns]\n",
      "    Last_Update  Total_Reported\n",
      "0    2020-03-13             0.0\n",
      "1    2020-03-14             0.0\n",
      "2    2020-03-15             0.0\n",
      "3    2020-03-16             0.0\n",
      "4    2020-03-17             0.0\n",
      "..          ...             ...\n",
      "212  2020-10-11         31208.0\n",
      "213  2020-10-12         31341.0\n",
      "214  2020-10-13             NaN\n",
      "215  2020-10-14         31554.0\n",
      "216  2020-10-15         31650.0\n",
      "\n",
      "[217 rows x 2 columns]\n"
     ]
    }
   ],
   "source": [
    "for df in dfs:\n",
    "    print(df)"
   ]
  },
  {
   "cell_type": "code",
   "execution_count": null,
   "metadata": {},
   "outputs": [],
   "source": []
  }
 ],
 "metadata": {
  "kernelspec": {
   "display_name": "Python 3",
   "language": "python",
   "name": "python3"
  },
  "language_info": {
   "codemirror_mode": {
    "name": "ipython",
    "version": 3
   },
   "file_extension": ".py",
   "mimetype": "text/x-python",
   "name": "python",
   "nbconvert_exporter": "python",
   "pygments_lexer": "ipython3",
   "version": "3.8.3"
  }
 },
 "nbformat": 4,
 "nbformat_minor": 4
}
