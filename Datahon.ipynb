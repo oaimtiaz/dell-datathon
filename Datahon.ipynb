{
 "cells": [
  {
   "cell_type": "code",
   "execution_count": 1,
   "metadata": {},
   "outputs": [],
   "source": [
    "import numpy as np\n",
    "import pandas as pd\n",
    "import time\n",
    "from datetime import datetime, timedelta"
   ]
  },
  {
   "cell_type": "code",
   "execution_count": 2,
   "metadata": {},
   "outputs": [],
   "source": [
    "dfs = []"
   ]
  },
  {
   "cell_type": "code",
   "execution_count": 3,
   "metadata": {},
   "outputs": [
    {
     "name": "stderr",
     "output_type": "stream",
     "text": [
      "<ipython-input-3-3df169c378e2>:5: SettingWithCopyWarning: \n",
      "A value is trying to be set on a copy of a slice from a DataFrame\n",
      "\n",
      "See the caveats in the documentation: https://pandas.pydata.org/pandas-docs/stable/user_guide/indexing.html#returning-a-view-versus-a-copy\n",
      "  new_cases_travis[\"Date\"][i] = datetime.strptime(new_cases_travis[\"Date\"][i], \"%m/%d/%y\").date()\n"
     ]
    }
   ],
   "source": [
    "# source Texas DSHS\n",
    "new_cases_travis = pd.read_csv(r\"Texas_County_Cases_per_Day_data.csv\")\n",
    "new_cases_travis = new_cases_travis.dropna()\n",
    "for i in range(len(new_cases_travis)):\n",
    "    new_cases_travis[\"Date\"][i] = datetime.strptime(new_cases_travis[\"Date\"][i], \"%m/%d/%y\").date()\n",
    "    \n",
    "new_cases_travis = new_cases_travis.sort_values(\"Date\")\n",
    "new_cases_travis = new_cases_travis.set_index(\"Date\")"
   ]
  },
  {
   "cell_type": "code",
   "execution_count": 4,
   "metadata": {},
   "outputs": [],
   "source": [
    "dfs.append(new_cases_travis)"
   ]
  },
  {
   "cell_type": "code",
   "execution_count": 5,
   "metadata": {},
   "outputs": [],
   "source": [
    "# Source OpenTable (yoy = Year over year)\n",
    "yoy_texas_reservations_sideways = pd.read_csv(\"YoY_Seated_Diner_Data.csv\")"
   ]
  },
  {
   "cell_type": "code",
   "execution_count": 6,
   "metadata": {},
   "outputs": [],
   "source": [
    "yoy_texas_reservations_sideways = yoy_texas_reservations_sideways.dropna()"
   ]
  },
  {
   "cell_type": "code",
   "execution_count": 7,
   "metadata": {},
   "outputs": [],
   "source": [
    "yoy_texas_reservations = pd.DataFrame(columns=[\"Date\", \"yoy reservations %\"])"
   ]
  },
  {
   "cell_type": "code",
   "execution_count": 8,
   "metadata": {},
   "outputs": [
    {
     "data": {
      "text/html": [
       "<div>\n",
       "<style scoped>\n",
       "    .dataframe tbody tr th:only-of-type {\n",
       "        vertical-align: middle;\n",
       "    }\n",
       "\n",
       "    .dataframe tbody tr th {\n",
       "        vertical-align: top;\n",
       "    }\n",
       "\n",
       "    .dataframe thead th {\n",
       "        text-align: right;\n",
       "    }\n",
       "</style>\n",
       "<table border=\"1\" class=\"dataframe\">\n",
       "  <thead>\n",
       "    <tr style=\"text-align: right;\">\n",
       "      <th></th>\n",
       "      <th>18-Feb</th>\n",
       "      <th>19-Feb</th>\n",
       "      <th>20-Feb</th>\n",
       "      <th>21-Feb</th>\n",
       "      <th>22-Feb</th>\n",
       "      <th>23-Feb</th>\n",
       "      <th>24-Feb</th>\n",
       "      <th>25-Feb</th>\n",
       "      <th>26-Feb</th>\n",
       "      <th>27-Feb</th>\n",
       "      <th>...</th>\n",
       "      <th>6-Oct</th>\n",
       "      <th>7-Oct</th>\n",
       "      <th>8-Oct</th>\n",
       "      <th>9-Oct</th>\n",
       "      <th>10-Oct</th>\n",
       "      <th>11-Oct</th>\n",
       "      <th>12-Oct</th>\n",
       "      <th>13-Oct</th>\n",
       "      <th>14-Oct</th>\n",
       "      <th>15-Oct</th>\n",
       "    </tr>\n",
       "  </thead>\n",
       "  <tbody>\n",
       "    <tr>\n",
       "      <th>0</th>\n",
       "      <td>0.0</td>\n",
       "      <td>-6.0</td>\n",
       "      <td>0.0</td>\n",
       "      <td>2.0</td>\n",
       "      <td>1.0</td>\n",
       "      <td>-3.0</td>\n",
       "      <td>0.0</td>\n",
       "      <td>9.0</td>\n",
       "      <td>0.0</td>\n",
       "      <td>0.0</td>\n",
       "      <td>...</td>\n",
       "      <td>-40.87</td>\n",
       "      <td>-41.46</td>\n",
       "      <td>-32.26</td>\n",
       "      <td>-22.17</td>\n",
       "      <td>-7.88</td>\n",
       "      <td>-15.81</td>\n",
       "      <td>-37.19</td>\n",
       "      <td>-39.68</td>\n",
       "      <td>-39.02</td>\n",
       "      <td>-33.04</td>\n",
       "    </tr>\n",
       "  </tbody>\n",
       "</table>\n",
       "<p>1 rows × 241 columns</p>\n",
       "</div>"
      ],
      "text/plain": [
       "   18-Feb  19-Feb  20-Feb  21-Feb  22-Feb  23-Feb  24-Feb  25-Feb  26-Feb  \\\n",
       "0     0.0    -6.0     0.0     2.0     1.0    -3.0     0.0     9.0     0.0   \n",
       "\n",
       "   27-Feb  ...  6-Oct  7-Oct  8-Oct  9-Oct  10-Oct  11-Oct  12-Oct  13-Oct  \\\n",
       "0     0.0  ... -40.87 -41.46 -32.26 -22.17   -7.88  -15.81  -37.19  -39.68   \n",
       "\n",
       "   14-Oct  15-Oct  \n",
       "0  -39.02  -33.04  \n",
       "\n",
       "[1 rows x 241 columns]"
      ]
     },
     "execution_count": 8,
     "metadata": {},
     "output_type": "execute_result"
    }
   ],
   "source": [
    "yoy_texas_reservations_sideways.drop(\"Date\", axis=1)"
   ]
  },
  {
   "cell_type": "code",
   "execution_count": 9,
   "metadata": {},
   "outputs": [],
   "source": [
    "for date in yoy_texas_reservations_sideways.columns:\n",
    "    if date != \"Date\":\n",
    "        temp = pd.Series([date, yoy_texas_reservations_sideways[date][0]], index = yoy_texas_reservations.columns)\n",
    "        yoy_texas_reservations = yoy_texas_reservations.append(temp, ignore_index=True)"
   ]
  },
  {
   "cell_type": "code",
   "execution_count": 10,
   "metadata": {},
   "outputs": [
    {
     "name": "stderr",
     "output_type": "stream",
     "text": [
      "<ipython-input-10-f570834441b8>:3: SettingWithCopyWarning: \n",
      "A value is trying to be set on a copy of a slice from a DataFrame\n",
      "\n",
      "See the caveats in the documentation: https://pandas.pydata.org/pandas-docs/stable/user_guide/indexing.html#returning-a-view-versus-a-copy\n",
      "  yoy_texas_reservations[\"Date\"][i] = datetime.strptime(yoy_texas_reservations[\"Date\"][i], \"%d-%b\").replace(year=2020).date()\n",
      "<ipython-input-10-f570834441b8>:5: SettingWithCopyWarning: \n",
      "A value is trying to be set on a copy of a slice from a DataFrame\n",
      "\n",
      "See the caveats in the documentation: https://pandas.pydata.org/pandas-docs/stable/user_guide/indexing.html#returning-a-view-versus-a-copy\n",
      "  yoy_texas_reservations[\"Date\"][i] = datetime(2020, 2, 29).date()\n"
     ]
    }
   ],
   "source": [
    "for i in range(len(yoy_texas_reservations)):\n",
    "    try:\n",
    "        yoy_texas_reservations[\"Date\"][i] = datetime.strptime(yoy_texas_reservations[\"Date\"][i], \"%d-%b\").replace(year=2020).date()\n",
    "    except:\n",
    "        yoy_texas_reservations[\"Date\"][i] = datetime(2020, 2, 29).date()\n",
    "        continue\n",
    "yoy_texas_reservations = yoy_texas_reservations.set_index(\"Date\")\n",
    "\n"
   ]
  },
  {
   "cell_type": "code",
   "execution_count": 11,
   "metadata": {},
   "outputs": [],
   "source": [
    "dfs.append(yoy_texas_reservations)"
   ]
  },
  {
   "cell_type": "code",
   "execution_count": 12,
   "metadata": {},
   "outputs": [],
   "source": [
    "# Source: https://data.austintexas.gov/Public-Safety/Austin-Code-COVID-19-Complaint-Cases-Dashboard/5bvq-24pm\n",
    "covid_complaints = pd.read_csv(\"Austin_Code_COVID-19_Complaint_Cases.csv\")"
   ]
  },
  {
   "cell_type": "code",
   "execution_count": 13,
   "metadata": {},
   "outputs": [],
   "source": [
    "dates_freq = pd.DataFrame({'Timestamp': sorted(covid_complaints['OPENDATE'])})\n",
    "dates_freq = dates_freq.rename(columns = {\"Timestamp\":\"Date\"})\n",
    "\n",
    "dates = []\n",
    "col_names = [\"Date\", \"complaints\"]\n",
    "current_date = dates_freq[\"Date\"][0]\n",
    "count = 0\n",
    "for date in dates_freq[\"Date\"]:\n",
    "    if current_date == date:\n",
    "        count+=1\n",
    "    else:\n",
    "        dates.append([current_date, count])\n",
    "        current_date = date\n",
    "        count = 1\n",
    "\n",
    "dates_freq = pd.DataFrame(dates, columns=col_names)\n",
    "dates_freq = dates_freq.set_index(\"Date\")\n"
   ]
  },
  {
   "cell_type": "code",
   "execution_count": 14,
   "metadata": {},
   "outputs": [
    {
     "ename": "NameError",
     "evalue": "name 'complaints_per_day' is not defined",
     "output_type": "error",
     "traceback": [
      "\u001b[0;31m---------------------------------------------------------------------------\u001b[0m",
      "\u001b[0;31mNameError\u001b[0m                                 Traceback (most recent call last)",
      "\u001b[0;32m<ipython-input-14-69b7afd7c84b>\u001b[0m in \u001b[0;36m<module>\u001b[0;34m\u001b[0m\n\u001b[0;32m----> 1\u001b[0;31m \u001b[0mdfs\u001b[0m\u001b[0;34m.\u001b[0m\u001b[0mappend\u001b[0m\u001b[0;34m(\u001b[0m\u001b[0mcomplaints_per_day\u001b[0m\u001b[0;34m)\u001b[0m\u001b[0;34m\u001b[0m\u001b[0;34m\u001b[0m\u001b[0m\n\u001b[0m",
      "\u001b[0;31mNameError\u001b[0m: name 'complaints_per_day' is not defined"
     ]
    }
   ],
   "source": [
    "dfs.append(complaints_per_day)"
   ]
  },
  {
   "cell_type": "markdown",
   "metadata": {},
   "source": [
    "# The following data is all from YouGov (fear of covid, avoiding crowds, wearing masks, support quarantine)\n",
    "## All data is from March 2 - October 12"
   ]
  },
  {
   "cell_type": "code",
   "execution_count": null,
   "metadata": {},
   "outputs": [],
   "source": [
    "covid_fear = pd.read_csv(\"covid-fear.csv\")\n",
    "for i in range(len(covid_fear[\"DateTime\"])):\n",
    "    covid_fear[\"DateTime\"][i] = datetime.strptime(covid_fear[\"DateTime\"][i], \"%Y-%m-%d %H:%M:%S\").replace(year=2020).date()\n",
    "\n",
    "covid_fear = covid_fear.rename(columns = {\"DateTime\":\"Date\", \"USA\":\"covid-fear\"})\n",
    "covid_fear = covid_fear.set_index(\"Date\")\n"
   ]
  },
  {
   "cell_type": "code",
   "execution_count": 15,
   "metadata": {},
   "outputs": [
    {
     "ename": "NameError",
     "evalue": "name 'covid_fear' is not defined",
     "output_type": "error",
     "traceback": [
      "\u001b[0;31m---------------------------------------------------------------------------\u001b[0m",
      "\u001b[0;31mNameError\u001b[0m                                 Traceback (most recent call last)",
      "\u001b[0;32m<ipython-input-15-8c9a95bb7b26>\u001b[0m in \u001b[0;36m<module>\u001b[0;34m\u001b[0m\n\u001b[0;32m----> 1\u001b[0;31m \u001b[0mdfs\u001b[0m\u001b[0;34m.\u001b[0m\u001b[0mappend\u001b[0m\u001b[0;34m(\u001b[0m\u001b[0mcovid_fear\u001b[0m\u001b[0;34m)\u001b[0m\u001b[0;34m\u001b[0m\u001b[0;34m\u001b[0m\u001b[0m\n\u001b[0m",
      "\u001b[0;31mNameError\u001b[0m: name 'covid_fear' is not defined"
     ]
    }
   ],
   "source": [
    "dfs.append(covid_fear)"
   ]
  },
  {
   "cell_type": "code",
   "execution_count": 16,
   "metadata": {},
   "outputs": [
    {
     "name": "stderr",
     "output_type": "stream",
     "text": [
      "<ipython-input-16-f4f3a7f8b56b>:3: SettingWithCopyWarning: \n",
      "A value is trying to be set on a copy of a slice from a DataFrame\n",
      "\n",
      "See the caveats in the documentation: https://pandas.pydata.org/pandas-docs/stable/user_guide/indexing.html#returning-a-view-versus-a-copy\n",
      "  support_quarantine[\"DateTime\"][i] = datetime.strptime(support_quarantine[\"DateTime\"][i], \"%Y-%m-%d %H:%M:%S\").replace(year=2020).date()\n"
     ]
    }
   ],
   "source": [
    "support_quarantine = pd.read_csv(\"support-quarantine.csv\")\n",
    "for i in range(len(support_quarantine[\"DateTime\"])):\n",
    "    support_quarantine[\"DateTime\"][i] = datetime.strptime(support_quarantine[\"DateTime\"][i], \"%Y-%m-%d %H:%M:%S\").replace(year=2020).date()\n",
    "support_quarantine = support_quarantine.rename(columns = {\"DateTime\":\"Date\", \"USA\":\"support-quarantine\"})\n",
    "support_quarantine = support_quarantine.set_index(\"Date\")\n",
    "    "
   ]
  },
  {
   "cell_type": "code",
   "execution_count": 17,
   "metadata": {},
   "outputs": [],
   "source": [
    "dfs.append(support_quarantine)"
   ]
  },
  {
   "cell_type": "code",
   "execution_count": 18,
   "metadata": {},
   "outputs": [
    {
     "name": "stderr",
     "output_type": "stream",
     "text": [
      "<ipython-input-18-88b6f8d3bb0c>:3: SettingWithCopyWarning: \n",
      "A value is trying to be set on a copy of a slice from a DataFrame\n",
      "\n",
      "See the caveats in the documentation: https://pandas.pydata.org/pandas-docs/stable/user_guide/indexing.html#returning-a-view-versus-a-copy\n",
      "  wearing_masks[\"DateTime\"][i] = datetime.strptime(wearing_masks[\"DateTime\"][i], \"%Y-%m-%d %H:%M:%S\").replace(year=2020).date()\n"
     ]
    }
   ],
   "source": [
    "wearing_masks = pd.read_csv(\"wearing-masks.csv\")\n",
    "for i in range(len(wearing_masks[\"DateTime\"])):\n",
    "    wearing_masks[\"DateTime\"][i] = datetime.strptime(wearing_masks[\"DateTime\"][i], \"%Y-%m-%d %H:%M:%S\").replace(year=2020).date()\n",
    "wearing_masks = wearing_masks.rename(columns = {\"DateTime\":\"Date\", \"USA\":\"wearing-masks\"})\n",
    "wearing_masks = wearing_masks.set_index(\"Date\")\n"
   ]
  },
  {
   "cell_type": "code",
   "execution_count": 19,
   "metadata": {},
   "outputs": [],
   "source": [
    "dfs.append(wearing_masks)"
   ]
  },
  {
   "cell_type": "code",
   "execution_count": 20,
   "metadata": {},
   "outputs": [
    {
     "name": "stderr",
     "output_type": "stream",
     "text": [
      "<ipython-input-20-5bb8c53413b8>:3: SettingWithCopyWarning: \n",
      "A value is trying to be set on a copy of a slice from a DataFrame\n",
      "\n",
      "See the caveats in the documentation: https://pandas.pydata.org/pandas-docs/stable/user_guide/indexing.html#returning-a-view-versus-a-copy\n",
      "  avoiding_crowds[\"DateTime\"][i] = datetime.strptime(avoiding_crowds[\"DateTime\"][i], \"%Y-%m-%d %H:%M:%S\").replace(year=2020).date()\n"
     ]
    }
   ],
   "source": [
    "avoiding_crowds = pd.read_csv(\"avoid-crowds.csv\")\n",
    "for i in range(len(avoiding_crowds[\"DateTime\"])):\n",
    "    avoiding_crowds[\"DateTime\"][i] = datetime.strptime(avoiding_crowds[\"DateTime\"][i], \"%Y-%m-%d %H:%M:%S\").replace(year=2020).date()\n",
    "avoiding_crowds = avoiding_crowds.rename(columns = {\"DateTime\":\"Date\", \"USA\":\"avoiding-crowds\"})\n",
    "avoiding_crowds = avoiding_crowds.set_index(\"Date\")\n"
   ]
  },
  {
   "cell_type": "code",
   "execution_count": 21,
   "metadata": {},
   "outputs": [],
   "source": [
    "dfs.append(avoiding_crowds)"
   ]
  },
  {
   "cell_type": "code",
   "execution_count": 22,
   "metadata": {},
   "outputs": [
    {
     "name": "stderr",
     "output_type": "stream",
     "text": [
      "<ipython-input-22-85145c4d4829>:4: SettingWithCopyWarning: \n",
      "A value is trying to be set on a copy of a slice from a DataFrame\n",
      "\n",
      "See the caveats in the documentation: https://pandas.pydata.org/pandas-docs/stable/user_guide/indexing.html#returning-a-view-versus-a-copy\n",
      "  hospital_data[\"Date\"][i] = datetime.strptime(hospital_data[\"Date\"][i], \"%m/%d/%y\").replace(year=2020).date()\n"
     ]
    }
   ],
   "source": [
    "# From DSHS and Austin - Travis County COVID-19 Dashboard Public Datasets\n",
    "hospital_data = pd.read_csv(\"hospital-data.csv\")\n",
    "for i in range(len(hospital_data[\"Date\"])):\n",
    "    hospital_data[\"Date\"][i] = datetime.strptime(hospital_data[\"Date\"][i], \"%m/%d/%y\").replace(year=2020).date()\n",
    "hospital_data = hospital_data.set_index(\"Date\")   \n"
   ]
  },
  {
   "cell_type": "code",
   "execution_count": 23,
   "metadata": {},
   "outputs": [],
   "source": [
    "dfs.append(hospital_data)"
   ]
  },
  {
   "cell_type": "code",
   "execution_count": 24,
   "metadata": {},
   "outputs": [
    {
     "name": "stderr",
     "output_type": "stream",
     "text": [
      "<ipython-input-24-51bfa4ae9c7d>:4: SettingWithCopyWarning: \n",
      "A value is trying to be set on a copy of a slice from a DataFrame\n",
      "\n",
      "See the caveats in the documentation: https://pandas.pydata.org/pandas-docs/stable/user_guide/indexing.html#returning-a-view-versus-a-copy\n",
      "  total_cases[\"Last_Update\"][i] = datetime.strptime(total_cases[\"Last_Update\"][i], \"%m/%d/%y %H:%M\").replace(year=2020).date()\n"
     ]
    }
   ],
   "source": [
    "# Case counts: Austin Travis County COVID19 Daily Counts (Public View)\n",
    "total_cases = pd.read_csv(\"total-cases.csv\")\n",
    "for i in range(len(total_cases[\"Last_Update\"])):\n",
    "    total_cases[\"Last_Update\"][i] = datetime.strptime(total_cases[\"Last_Update\"][i], \"%m/%d/%y %H:%M\").replace(year=2020).date()\n",
    "    \n",
    "total_cases = total_cases.rename(columns = {\"Last_Update\":\"Date\"})\n",
    "total_cases = total_cases.set_index(\"Date\") \n"
   ]
  },
  {
   "cell_type": "code",
   "execution_count": 25,
   "metadata": {},
   "outputs": [],
   "source": [
    "dfs.append(total_cases)"
   ]
  },
  {
   "cell_type": "markdown",
   "metadata": {},
   "source": [
    "# Data so far: \n",
    "1. New cases, \n",
    "2. year on year % restaurant reservations, \n",
    "3. covid complaints(in-progress), \n",
    "4. % fearing covid , \n",
    "5. support for quaranting, \n",
    "6. % wearing masks, \n",
    "7. % avoiding crowds, \n",
    "8. % of total hospital capacity dedicated to covid, \n",
    "9. /# of hospitalisations for covid, \n",
    "10. % of hospitalisations for covid, \n",
    "11. /# of ICU beds for covid, \n",
    "12. /# cases"
   ]
  },
  {
   "cell_type": "markdown",
   "metadata": {},
   "source": [
    "# Target Feature: Number of infections for covid (in 2.5 months)"
   ]
  },
  {
   "cell_type": "code",
   "execution_count": 27,
   "metadata": {},
   "outputs": [],
   "source": [
    "first_df = dfs[1]\n",
    "for next_df in dfs:\n",
    "    if first_df.columns[0] != next_df.columns[0]:\n",
    "        first_df = pd.merge(first_df, next_df, on=\"Date\", how=\"left\")"
   ]
  },
  {
   "cell_type": "code",
   "execution_count": 28,
   "metadata": {},
   "outputs": [],
   "source": [
    "first_df.to_csv(r\"all-data.csv\")"
   ]
  },
  {
   "cell_type": "code",
   "execution_count": null,
   "metadata": {},
   "outputs": [],
   "source": []
  }
 ],
 "metadata": {
  "kernelspec": {
   "display_name": "Python 3",
   "language": "python",
   "name": "python3"
  },
  "language_info": {
   "codemirror_mode": {
    "name": "ipython",
    "version": 3
   },
   "file_extension": ".py",
   "mimetype": "text/x-python",
   "name": "python",
   "nbconvert_exporter": "python",
   "pygments_lexer": "ipython3",
   "version": "3.8.3"
  }
 },
 "nbformat": 4,
 "nbformat_minor": 4
}
